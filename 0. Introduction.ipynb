{
 "cells": [
  {
   "cell_type": "markdown",
   "metadata": {},
   "source": [
    "# ABOUT A PROJECT"
   ]
  },
  {
   "cell_type": "markdown",
   "metadata": {},
   "source": [
    "The purpose of this project is to predict arrival delay of the flights based on some characteristics.\n",
    "\n",
    "The last given information on a particular flight is a departure delay. We will build a model using this feature and the features that we can obtain before it.\n",
    "\n",
    "From a business perspective we could be able to predict a delay before the aircraft leaves the ground. The average period of time between departure (the time when an aircraft departs from the gate) and taking off is about 16 minutes. The predicted arrival delay could be usefel for example for air traffic contollers, airports, members of the crew or passengers.\n",
    "\n",
    "The analysis of an arrival delay will be divided, besides this introduction, into 4 parts:\n",
    "* data preprocessing,\n",
    "* data exploration,\n",
    "* feature engineering,\n",
    "* model building.\n",
    "\n",
    "\n",
    "### 1. Data preprocessing\n",
    "In this part we will adapt our data to the usable format that will allow us to take the next step, not worrying about . We will also create normalized departure and arrival times that will sort our flights by the moment of occurance.\n",
    "\n",
    "### 2. Data exploration\n",
    "In the second stage we will visualize data and examine basic statistics in order to determine which features can be useful in predicting arrival delay.\n",
    "\n",
    "### 3. Feature engineering\n",
    "We will create new features based mainly on aggregates of recent flights and average of delay grouped by different features \n",
    "\n",
    "### 4. Model building\n",
    "The purpose of data modelling is to predict arrival delays as accurate as it is possible. To achieve that we will build a LightGBM model. It also includes hyperparameters optimization and feature selection."
   ]
  },
  {
   "cell_type": "markdown",
   "metadata": {},
   "source": [
    "# DATA\n",
    "Though the data contain flights from the whole 2015, only the first 4 months will be used due to the computational complexity.\n",
    "\n",
    "The data used in a project can be found on the following website: https://www.kaggle.com/usdot/flight-delays"
   ]
  },
  {
   "cell_type": "code",
   "execution_count": 1,
   "metadata": {},
   "outputs": [],
   "source": [
    "import pandas as pd\n",
    "import numpy as np"
   ]
  },
  {
   "cell_type": "code",
   "execution_count": 2,
   "metadata": {},
   "outputs": [],
   "source": [
    "pd.options.display.max_columns = 100"
   ]
  },
  {
   "cell_type": "markdown",
   "metadata": {},
   "source": [
    "We will be mainly interested in the flights dataset, though aiports also will be usefeul."
   ]
  },
  {
   "cell_type": "code",
   "execution_count": 3,
   "metadata": {},
   "outputs": [
    {
     "name": "stderr",
     "output_type": "stream",
     "text": [
      "C:\\Users\\ja\\Anaconda3\\lib\\site-packages\\IPython\\core\\interactiveshell.py:3063: DtypeWarning: Columns (7,8) have mixed types.Specify dtype option on import or set low_memory=False.\n",
      "  interactivity=interactivity, compiler=compiler, result=result)\n"
     ]
    }
   ],
   "source": [
    "data = pd.read_csv('flights.csv')\n",
    "airports = pd.read_csv('airports.csv')"
   ]
  },
  {
   "cell_type": "markdown",
   "metadata": {},
   "source": [
    "# FLIGHTS DATASET"
   ]
  },
  {
   "cell_type": "code",
   "execution_count": 4,
   "metadata": {},
   "outputs": [
    {
     "data": {
      "text/plain": [
       "(5819079, 31)"
      ]
     },
     "execution_count": 4,
     "metadata": {},
     "output_type": "execute_result"
    }
   ],
   "source": [
    "data.shape"
   ]
  },
  {
   "cell_type": "markdown",
   "metadata": {},
   "source": [
    "The data is composed of over 5,800,000 flights and 31 columns. However, we should only take into consideration the first 4 months."
   ]
  },
  {
   "cell_type": "code",
   "execution_count": 5,
   "metadata": {
    "scrolled": true
   },
   "outputs": [
    {
     "data": {
      "text/plain": [
       "(1888622, 31)"
      ]
     },
     "execution_count": 5,
     "metadata": {},
     "output_type": "execute_result"
    }
   ],
   "source": [
    "data = data[data.MONTH <= 4]\n",
    "data.shape"
   ]
  },
  {
   "cell_type": "markdown",
   "metadata": {},
   "source": [
    "The data from January to April consists of nearly 1,900,000 rows and 31 columns."
   ]
  },
  {
   "cell_type": "code",
   "execution_count": 6,
   "metadata": {},
   "outputs": [
    {
     "data": {
      "text/html": [
       "<div>\n",
       "<style scoped>\n",
       "    .dataframe tbody tr th:only-of-type {\n",
       "        vertical-align: middle;\n",
       "    }\n",
       "\n",
       "    .dataframe tbody tr th {\n",
       "        vertical-align: top;\n",
       "    }\n",
       "\n",
       "    .dataframe thead th {\n",
       "        text-align: right;\n",
       "    }\n",
       "</style>\n",
       "<table border=\"1\" class=\"dataframe\">\n",
       "  <thead>\n",
       "    <tr style=\"text-align: right;\">\n",
       "      <th></th>\n",
       "      <th>YEAR</th>\n",
       "      <th>MONTH</th>\n",
       "      <th>DAY</th>\n",
       "      <th>DAY_OF_WEEK</th>\n",
       "      <th>AIRLINE</th>\n",
       "      <th>FLIGHT_NUMBER</th>\n",
       "      <th>TAIL_NUMBER</th>\n",
       "      <th>ORIGIN_AIRPORT</th>\n",
       "      <th>DESTINATION_AIRPORT</th>\n",
       "      <th>SCHEDULED_DEPARTURE</th>\n",
       "      <th>DEPARTURE_TIME</th>\n",
       "      <th>DEPARTURE_DELAY</th>\n",
       "      <th>TAXI_OUT</th>\n",
       "      <th>WHEELS_OFF</th>\n",
       "      <th>SCHEDULED_TIME</th>\n",
       "      <th>ELAPSED_TIME</th>\n",
       "      <th>AIR_TIME</th>\n",
       "      <th>DISTANCE</th>\n",
       "      <th>WHEELS_ON</th>\n",
       "      <th>TAXI_IN</th>\n",
       "      <th>SCHEDULED_ARRIVAL</th>\n",
       "      <th>ARRIVAL_TIME</th>\n",
       "      <th>ARRIVAL_DELAY</th>\n",
       "      <th>DIVERTED</th>\n",
       "      <th>CANCELLED</th>\n",
       "      <th>CANCELLATION_REASON</th>\n",
       "      <th>AIR_SYSTEM_DELAY</th>\n",
       "      <th>SECURITY_DELAY</th>\n",
       "      <th>AIRLINE_DELAY</th>\n",
       "      <th>LATE_AIRCRAFT_DELAY</th>\n",
       "      <th>WEATHER_DELAY</th>\n",
       "    </tr>\n",
       "  </thead>\n",
       "  <tbody>\n",
       "    <tr>\n",
       "      <th>0</th>\n",
       "      <td>2015</td>\n",
       "      <td>1</td>\n",
       "      <td>1</td>\n",
       "      <td>4</td>\n",
       "      <td>AS</td>\n",
       "      <td>98</td>\n",
       "      <td>N407AS</td>\n",
       "      <td>ANC</td>\n",
       "      <td>SEA</td>\n",
       "      <td>5</td>\n",
       "      <td>2354.0</td>\n",
       "      <td>-11.0</td>\n",
       "      <td>21.0</td>\n",
       "      <td>15.0</td>\n",
       "      <td>205.0</td>\n",
       "      <td>194.0</td>\n",
       "      <td>169.0</td>\n",
       "      <td>1448</td>\n",
       "      <td>404.0</td>\n",
       "      <td>4.0</td>\n",
       "      <td>430</td>\n",
       "      <td>408.0</td>\n",
       "      <td>-22.0</td>\n",
       "      <td>0</td>\n",
       "      <td>0</td>\n",
       "      <td>NaN</td>\n",
       "      <td>NaN</td>\n",
       "      <td>NaN</td>\n",
       "      <td>NaN</td>\n",
       "      <td>NaN</td>\n",
       "      <td>NaN</td>\n",
       "    </tr>\n",
       "    <tr>\n",
       "      <th>1</th>\n",
       "      <td>2015</td>\n",
       "      <td>1</td>\n",
       "      <td>1</td>\n",
       "      <td>4</td>\n",
       "      <td>AA</td>\n",
       "      <td>2336</td>\n",
       "      <td>N3KUAA</td>\n",
       "      <td>LAX</td>\n",
       "      <td>PBI</td>\n",
       "      <td>10</td>\n",
       "      <td>2.0</td>\n",
       "      <td>-8.0</td>\n",
       "      <td>12.0</td>\n",
       "      <td>14.0</td>\n",
       "      <td>280.0</td>\n",
       "      <td>279.0</td>\n",
       "      <td>263.0</td>\n",
       "      <td>2330</td>\n",
       "      <td>737.0</td>\n",
       "      <td>4.0</td>\n",
       "      <td>750</td>\n",
       "      <td>741.0</td>\n",
       "      <td>-9.0</td>\n",
       "      <td>0</td>\n",
       "      <td>0</td>\n",
       "      <td>NaN</td>\n",
       "      <td>NaN</td>\n",
       "      <td>NaN</td>\n",
       "      <td>NaN</td>\n",
       "      <td>NaN</td>\n",
       "      <td>NaN</td>\n",
       "    </tr>\n",
       "    <tr>\n",
       "      <th>2</th>\n",
       "      <td>2015</td>\n",
       "      <td>1</td>\n",
       "      <td>1</td>\n",
       "      <td>4</td>\n",
       "      <td>US</td>\n",
       "      <td>840</td>\n",
       "      <td>N171US</td>\n",
       "      <td>SFO</td>\n",
       "      <td>CLT</td>\n",
       "      <td>20</td>\n",
       "      <td>18.0</td>\n",
       "      <td>-2.0</td>\n",
       "      <td>16.0</td>\n",
       "      <td>34.0</td>\n",
       "      <td>286.0</td>\n",
       "      <td>293.0</td>\n",
       "      <td>266.0</td>\n",
       "      <td>2296</td>\n",
       "      <td>800.0</td>\n",
       "      <td>11.0</td>\n",
       "      <td>806</td>\n",
       "      <td>811.0</td>\n",
       "      <td>5.0</td>\n",
       "      <td>0</td>\n",
       "      <td>0</td>\n",
       "      <td>NaN</td>\n",
       "      <td>NaN</td>\n",
       "      <td>NaN</td>\n",
       "      <td>NaN</td>\n",
       "      <td>NaN</td>\n",
       "      <td>NaN</td>\n",
       "    </tr>\n",
       "    <tr>\n",
       "      <th>3</th>\n",
       "      <td>2015</td>\n",
       "      <td>1</td>\n",
       "      <td>1</td>\n",
       "      <td>4</td>\n",
       "      <td>AA</td>\n",
       "      <td>258</td>\n",
       "      <td>N3HYAA</td>\n",
       "      <td>LAX</td>\n",
       "      <td>MIA</td>\n",
       "      <td>20</td>\n",
       "      <td>15.0</td>\n",
       "      <td>-5.0</td>\n",
       "      <td>15.0</td>\n",
       "      <td>30.0</td>\n",
       "      <td>285.0</td>\n",
       "      <td>281.0</td>\n",
       "      <td>258.0</td>\n",
       "      <td>2342</td>\n",
       "      <td>748.0</td>\n",
       "      <td>8.0</td>\n",
       "      <td>805</td>\n",
       "      <td>756.0</td>\n",
       "      <td>-9.0</td>\n",
       "      <td>0</td>\n",
       "      <td>0</td>\n",
       "      <td>NaN</td>\n",
       "      <td>NaN</td>\n",
       "      <td>NaN</td>\n",
       "      <td>NaN</td>\n",
       "      <td>NaN</td>\n",
       "      <td>NaN</td>\n",
       "    </tr>\n",
       "    <tr>\n",
       "      <th>4</th>\n",
       "      <td>2015</td>\n",
       "      <td>1</td>\n",
       "      <td>1</td>\n",
       "      <td>4</td>\n",
       "      <td>AS</td>\n",
       "      <td>135</td>\n",
       "      <td>N527AS</td>\n",
       "      <td>SEA</td>\n",
       "      <td>ANC</td>\n",
       "      <td>25</td>\n",
       "      <td>24.0</td>\n",
       "      <td>-1.0</td>\n",
       "      <td>11.0</td>\n",
       "      <td>35.0</td>\n",
       "      <td>235.0</td>\n",
       "      <td>215.0</td>\n",
       "      <td>199.0</td>\n",
       "      <td>1448</td>\n",
       "      <td>254.0</td>\n",
       "      <td>5.0</td>\n",
       "      <td>320</td>\n",
       "      <td>259.0</td>\n",
       "      <td>-21.0</td>\n",
       "      <td>0</td>\n",
       "      <td>0</td>\n",
       "      <td>NaN</td>\n",
       "      <td>NaN</td>\n",
       "      <td>NaN</td>\n",
       "      <td>NaN</td>\n",
       "      <td>NaN</td>\n",
       "      <td>NaN</td>\n",
       "    </tr>\n",
       "  </tbody>\n",
       "</table>\n",
       "</div>"
      ],
      "text/plain": [
       "   YEAR  MONTH  DAY  DAY_OF_WEEK AIRLINE  FLIGHT_NUMBER TAIL_NUMBER  \\\n",
       "0  2015      1    1            4      AS             98      N407AS   \n",
       "1  2015      1    1            4      AA           2336      N3KUAA   \n",
       "2  2015      1    1            4      US            840      N171US   \n",
       "3  2015      1    1            4      AA            258      N3HYAA   \n",
       "4  2015      1    1            4      AS            135      N527AS   \n",
       "\n",
       "  ORIGIN_AIRPORT DESTINATION_AIRPORT  SCHEDULED_DEPARTURE  DEPARTURE_TIME  \\\n",
       "0            ANC                 SEA                    5          2354.0   \n",
       "1            LAX                 PBI                   10             2.0   \n",
       "2            SFO                 CLT                   20            18.0   \n",
       "3            LAX                 MIA                   20            15.0   \n",
       "4            SEA                 ANC                   25            24.0   \n",
       "\n",
       "   DEPARTURE_DELAY  TAXI_OUT  WHEELS_OFF  SCHEDULED_TIME  ELAPSED_TIME  \\\n",
       "0            -11.0      21.0        15.0           205.0         194.0   \n",
       "1             -8.0      12.0        14.0           280.0         279.0   \n",
       "2             -2.0      16.0        34.0           286.0         293.0   \n",
       "3             -5.0      15.0        30.0           285.0         281.0   \n",
       "4             -1.0      11.0        35.0           235.0         215.0   \n",
       "\n",
       "   AIR_TIME  DISTANCE  WHEELS_ON  TAXI_IN  SCHEDULED_ARRIVAL  ARRIVAL_TIME  \\\n",
       "0     169.0      1448      404.0      4.0                430         408.0   \n",
       "1     263.0      2330      737.0      4.0                750         741.0   \n",
       "2     266.0      2296      800.0     11.0                806         811.0   \n",
       "3     258.0      2342      748.0      8.0                805         756.0   \n",
       "4     199.0      1448      254.0      5.0                320         259.0   \n",
       "\n",
       "   ARRIVAL_DELAY  DIVERTED  CANCELLED CANCELLATION_REASON  AIR_SYSTEM_DELAY  \\\n",
       "0          -22.0         0          0                 NaN               NaN   \n",
       "1           -9.0         0          0                 NaN               NaN   \n",
       "2            5.0         0          0                 NaN               NaN   \n",
       "3           -9.0         0          0                 NaN               NaN   \n",
       "4          -21.0         0          0                 NaN               NaN   \n",
       "\n",
       "   SECURITY_DELAY  AIRLINE_DELAY  LATE_AIRCRAFT_DELAY  WEATHER_DELAY  \n",
       "0             NaN            NaN                  NaN            NaN  \n",
       "1             NaN            NaN                  NaN            NaN  \n",
       "2             NaN            NaN                  NaN            NaN  \n",
       "3             NaN            NaN                  NaN            NaN  \n",
       "4             NaN            NaN                  NaN            NaN  "
      ]
     },
     "execution_count": 6,
     "metadata": {},
     "output_type": "execute_result"
    }
   ],
   "source": [
    "data.head()"
   ]
  },
  {
   "cell_type": "code",
   "execution_count": 7,
   "metadata": {
    "scrolled": true
   },
   "outputs": [
    {
     "data": {
      "text/plain": [
       "YEAR                      1\n",
       "MONTH                     4\n",
       "DAY                      31\n",
       "DAY_OF_WEEK               7\n",
       "AIRLINE                  14\n",
       "FLIGHT_NUMBER          6592\n",
       "TAIL_NUMBER            4601\n",
       "ORIGIN_AIRPORT          315\n",
       "DESTINATION_AIRPORT     315\n",
       "SCHEDULED_DEPARTURE    1258\n",
       "DEPARTURE_TIME         1438\n",
       "DEPARTURE_DELAY         957\n",
       "TAXI_OUT                179\n",
       "WHEELS_OFF             1437\n",
       "SCHEDULED_TIME          486\n",
       "ELAPSED_TIME            704\n",
       "AIR_TIME                667\n",
       "DISTANCE               1288\n",
       "WHEELS_ON              1440\n",
       "TAXI_IN                 180\n",
       "SCHEDULED_ARRIVAL      1371\n",
       "ARRIVAL_TIME           1440\n",
       "ARRIVAL_DELAY           984\n",
       "DIVERTED                  2\n",
       "CANCELLED                 2\n",
       "CANCELLATION_REASON       4\n",
       "AIR_SYSTEM_DELAY        469\n",
       "SECURITY_DELAY          105\n",
       "AIRLINE_DELAY           781\n",
       "LATE_AIRCRAFT_DELAY     563\n",
       "WEATHER_DELAY           491\n",
       "dtype: int64"
      ]
     },
     "execution_count": 7,
     "metadata": {},
     "output_type": "execute_result"
    }
   ],
   "source": [
    "data.nunique()"
   ]
  },
  {
   "cell_type": "markdown",
   "metadata": {},
   "source": [
    "# DESCRIPTION OF FLIGHTS FEATURES\n",
    "* YEAR - only 2015\n",
    "* MONTH - from January to April (1 to 4)\n",
    "* DAY\n",
    "* DAY_OF_WEEK\n",
    "* AIRLINE - 14 different airlines\n",
    "* FLIGHT_NUMBER - the number identifying the flight in the format of a digit. It contains over 6500 unique values.\n",
    "* TAIL_NUMBER - aircraft identification number. It contains abour 4600 unique values.\n",
    "* ORIGIN_AIRPORT - starting airport of a flight\n",
    "* DESTINATION_AIRPORT - airport of arrival\n",
    "* SCHEDULED_DEPARTURE - the planned departure time in the format of HHMM, without any separators\n",
    "* DEPARTURE_TIME - the factual time of departure from the gate in the format of HHMM\n",
    "* DEPARTURE_DELAY - a delay in the moment of departure\n",
    "* TAXI_OUT - the time elapsed between departure time and take off\n",
    "* WHEELS_OFF - the time of taking off in the format of HHMM\n",
    "* SCHEDULED_TIME - an expected time of the flight\n",
    "* ELAPSED_TIME - a factual time of the flight (from departure time to arrival time)\n",
    "* AIR_TIME - a factual time of the flight (from wheels off to wheels on)\n",
    "* DISTANCE - a distance between airports\n",
    "* WHEELS_ON - the time when aicraft touches the ground in the format of HHMM\n",
    "* TAXI_IN - the time elapsed between wheels on and arrival time\n",
    "* SCHEDULED_ARRIVAL - the planned arrival time in the format of HHMM\n",
    "* ARRIVAL_TIME - the factual time of arrival in the format of HHMM\n",
    "* ARRIVAL_DELAY - an obective of our predictions\n",
    "* DIVERTED - whether a flight was diverted or not\n",
    "* CANCELLED - whether a flight was cancelled or not\n",
    "* CANCELLATION_REASON - there are 4 possible reasons: A - caused by airline/carrier; B - caused by weather; C - caused by National Air System; D - caused by security\n",
    "* AIR_SYSTEM_DELAY - amount of delay caused by air syste\n",
    "* SECURITY_DELAY - amount of delay caused by security\n",
    "* AIRLINE_DELAY - amount of delay caused by airline           \n",
    "* LATE_AIRCRAFT_DELAY - amount of delay caused by aircraft\n",
    "* WEATHER_DELAY - amount of delay caused by weather"
   ]
  },
  {
   "cell_type": "markdown",
   "metadata": {},
   "source": [
    "# AIRPORTS DATASET"
   ]
  },
  {
   "cell_type": "code",
   "execution_count": 8,
   "metadata": {},
   "outputs": [
    {
     "data": {
      "text/plain": [
       "(322, 7)"
      ]
     },
     "execution_count": 8,
     "metadata": {},
     "output_type": "execute_result"
    }
   ],
   "source": [
    "airports.shape"
   ]
  },
  {
   "cell_type": "markdown",
   "metadata": {},
   "source": [
    "There are 322 unique airports."
   ]
  },
  {
   "cell_type": "code",
   "execution_count": 9,
   "metadata": {},
   "outputs": [
    {
     "data": {
      "text/html": [
       "<div>\n",
       "<style scoped>\n",
       "    .dataframe tbody tr th:only-of-type {\n",
       "        vertical-align: middle;\n",
       "    }\n",
       "\n",
       "    .dataframe tbody tr th {\n",
       "        vertical-align: top;\n",
       "    }\n",
       "\n",
       "    .dataframe thead th {\n",
       "        text-align: right;\n",
       "    }\n",
       "</style>\n",
       "<table border=\"1\" class=\"dataframe\">\n",
       "  <thead>\n",
       "    <tr style=\"text-align: right;\">\n",
       "      <th></th>\n",
       "      <th>IATA_CODE</th>\n",
       "      <th>AIRPORT</th>\n",
       "      <th>CITY</th>\n",
       "      <th>STATE</th>\n",
       "      <th>COUNTRY</th>\n",
       "      <th>LATITUDE</th>\n",
       "      <th>LONGITUDE</th>\n",
       "    </tr>\n",
       "  </thead>\n",
       "  <tbody>\n",
       "    <tr>\n",
       "      <th>0</th>\n",
       "      <td>ABE</td>\n",
       "      <td>Lehigh Valley International Airport</td>\n",
       "      <td>Allentown</td>\n",
       "      <td>PA</td>\n",
       "      <td>USA</td>\n",
       "      <td>40.65236</td>\n",
       "      <td>-75.44040</td>\n",
       "    </tr>\n",
       "    <tr>\n",
       "      <th>1</th>\n",
       "      <td>ABI</td>\n",
       "      <td>Abilene Regional Airport</td>\n",
       "      <td>Abilene</td>\n",
       "      <td>TX</td>\n",
       "      <td>USA</td>\n",
       "      <td>32.41132</td>\n",
       "      <td>-99.68190</td>\n",
       "    </tr>\n",
       "    <tr>\n",
       "      <th>2</th>\n",
       "      <td>ABQ</td>\n",
       "      <td>Albuquerque International Sunport</td>\n",
       "      <td>Albuquerque</td>\n",
       "      <td>NM</td>\n",
       "      <td>USA</td>\n",
       "      <td>35.04022</td>\n",
       "      <td>-106.60919</td>\n",
       "    </tr>\n",
       "    <tr>\n",
       "      <th>3</th>\n",
       "      <td>ABR</td>\n",
       "      <td>Aberdeen Regional Airport</td>\n",
       "      <td>Aberdeen</td>\n",
       "      <td>SD</td>\n",
       "      <td>USA</td>\n",
       "      <td>45.44906</td>\n",
       "      <td>-98.42183</td>\n",
       "    </tr>\n",
       "    <tr>\n",
       "      <th>4</th>\n",
       "      <td>ABY</td>\n",
       "      <td>Southwest Georgia Regional Airport</td>\n",
       "      <td>Albany</td>\n",
       "      <td>GA</td>\n",
       "      <td>USA</td>\n",
       "      <td>31.53552</td>\n",
       "      <td>-84.19447</td>\n",
       "    </tr>\n",
       "  </tbody>\n",
       "</table>\n",
       "</div>"
      ],
      "text/plain": [
       "  IATA_CODE                              AIRPORT         CITY STATE COUNTRY  \\\n",
       "0       ABE  Lehigh Valley International Airport    Allentown    PA     USA   \n",
       "1       ABI             Abilene Regional Airport      Abilene    TX     USA   \n",
       "2       ABQ    Albuquerque International Sunport  Albuquerque    NM     USA   \n",
       "3       ABR            Aberdeen Regional Airport     Aberdeen    SD     USA   \n",
       "4       ABY   Southwest Georgia Regional Airport       Albany    GA     USA   \n",
       "\n",
       "   LATITUDE  LONGITUDE  \n",
       "0  40.65236  -75.44040  \n",
       "1  32.41132  -99.68190  \n",
       "2  35.04022 -106.60919  \n",
       "3  45.44906  -98.42183  \n",
       "4  31.53552  -84.19447  "
      ]
     },
     "execution_count": 9,
     "metadata": {},
     "output_type": "execute_result"
    }
   ],
   "source": [
    "airports.head()"
   ]
  },
  {
   "cell_type": "code",
   "execution_count": 10,
   "metadata": {},
   "outputs": [
    {
     "data": {
      "text/plain": [
       "IATA_CODE    322\n",
       "AIRPORT      322\n",
       "CITY         308\n",
       "STATE         54\n",
       "COUNTRY        1\n",
       "LATITUDE     319\n",
       "LONGITUDE    319\n",
       "dtype: int64"
      ]
     },
     "execution_count": 10,
     "metadata": {},
     "output_type": "execute_result"
    }
   ],
   "source": [
    "airports.nunique()"
   ]
  },
  {
   "cell_type": "markdown",
   "metadata": {},
   "source": [
    "# DESCRIPTION OF AIRPORTS FEATURES\n",
    "* IATA_CODE - the identifier of an airport. It is in the same format as ORIGIN_AIRPORT and DESTINATION_AIRPORT from flights\n",
    "* AIRPORT - the full name of an airport. All airports have associated IATA_CODE\n",
    "* CITY - the city of an airport. There is mostly one airport per city but there are also a few cities with many airports.\n",
    "* STATE - the state of an airport\n",
    "* COUNTRY - the only country in our dataset is United States\n",
    "* LATTITUDE - the lattitude of an airport. There are 3 airports without assigned latitude\n",
    "* LONGITUDE - the longitude of an airport. There are again 3 airports without assigned longitude."
   ]
  },
  {
   "cell_type": "code",
   "execution_count": 11,
   "metadata": {},
   "outputs": [
    {
     "data": {
      "text/html": [
       "<div>\n",
       "<style scoped>\n",
       "    .dataframe tbody tr th:only-of-type {\n",
       "        vertical-align: middle;\n",
       "    }\n",
       "\n",
       "    .dataframe tbody tr th {\n",
       "        vertical-align: top;\n",
       "    }\n",
       "\n",
       "    .dataframe thead th {\n",
       "        text-align: right;\n",
       "    }\n",
       "</style>\n",
       "<table border=\"1\" class=\"dataframe\">\n",
       "  <thead>\n",
       "    <tr style=\"text-align: right;\">\n",
       "      <th></th>\n",
       "      <th>IATA_CODE</th>\n",
       "      <th>AIRPORT</th>\n",
       "      <th>CITY</th>\n",
       "      <th>STATE</th>\n",
       "      <th>COUNTRY</th>\n",
       "      <th>LATITUDE</th>\n",
       "      <th>LONGITUDE</th>\n",
       "    </tr>\n",
       "  </thead>\n",
       "  <tbody>\n",
       "    <tr>\n",
       "      <th>96</th>\n",
       "      <td>ECP</td>\n",
       "      <td>Northwest Florida Beaches International Airport</td>\n",
       "      <td>Panama City</td>\n",
       "      <td>FL</td>\n",
       "      <td>USA</td>\n",
       "      <td>NaN</td>\n",
       "      <td>NaN</td>\n",
       "    </tr>\n",
       "    <tr>\n",
       "      <th>234</th>\n",
       "      <td>PBG</td>\n",
       "      <td>Plattsburgh International Airport</td>\n",
       "      <td>Plattsburgh</td>\n",
       "      <td>NY</td>\n",
       "      <td>USA</td>\n",
       "      <td>NaN</td>\n",
       "      <td>NaN</td>\n",
       "    </tr>\n",
       "    <tr>\n",
       "      <th>313</th>\n",
       "      <td>UST</td>\n",
       "      <td>Northeast Florida Regional Airport (St. August...</td>\n",
       "      <td>St. Augustine</td>\n",
       "      <td>FL</td>\n",
       "      <td>USA</td>\n",
       "      <td>NaN</td>\n",
       "      <td>NaN</td>\n",
       "    </tr>\n",
       "  </tbody>\n",
       "</table>\n",
       "</div>"
      ],
      "text/plain": [
       "    IATA_CODE                                            AIRPORT  \\\n",
       "96        ECP    Northwest Florida Beaches International Airport   \n",
       "234       PBG                  Plattsburgh International Airport   \n",
       "313       UST  Northeast Florida Regional Airport (St. August...   \n",
       "\n",
       "              CITY STATE COUNTRY  LATITUDE  LONGITUDE  \n",
       "96     Panama City    FL     USA       NaN        NaN  \n",
       "234    Plattsburgh    NY     USA       NaN        NaN  \n",
       "313  St. Augustine    FL     USA       NaN        NaN  "
      ]
     },
     "execution_count": 11,
     "metadata": {},
     "output_type": "execute_result"
    }
   ],
   "source": [
    "airports[airports.LATITUDE.isna()]"
   ]
  }
 ],
 "metadata": {
  "kernelspec": {
   "display_name": "Python 3",
   "language": "python",
   "name": "python3"
  },
  "language_info": {
   "codemirror_mode": {
    "name": "ipython",
    "version": 3
   },
   "file_extension": ".py",
   "mimetype": "text/x-python",
   "name": "python",
   "nbconvert_exporter": "python",
   "pygments_lexer": "ipython3",
   "version": "3.7.3"
  }
 },
 "nbformat": 4,
 "nbformat_minor": 4
}
